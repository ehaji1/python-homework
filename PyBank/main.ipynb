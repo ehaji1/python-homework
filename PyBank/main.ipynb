{
 "cells": [
  {
   "cell_type": "code",
   "execution_count": 16,
   "metadata": {},
   "outputs": [
    {
     "name": "stdout",
     "output_type": "stream",
     "text": [
      "Financial Analysis\n",
      "------------------\n",
      "Total Months: 86\n",
      "Total: $38382578\n",
      "Average Change: $-2288.2\n",
      "Greatest Increase in Profits: Feb-2012 ($1926159)\n",
      "Greatest Increase in Profits: Sep-2013 ($-2196167)\n"
     ]
    }
   ],
   "source": [
    "# Import path and csv\n",
    "from pathlib import Path\n",
    "import csv\n",
    "\n",
    "#Direct to budget_data.csv\n",
    "csvpath = Path(r'C:\\Users\\derpm\\Desktop\\Fintech\\Git\\Gitlab\\ASU-VIRT-FIN-PT-03-2022-U-LOL\\Week 2\\Homework\\Instructions\\PyBank\\Resources\\budget_data.csv')\n",
    "\n",
    "#Create lists for max/min profit\n",
    "date = []\n",
    "change = []\n",
    "\n",
    "#Establish variables for initial value, total months, total profit, and average change\n",
    "initial = 867884\n",
    "total_months = 0\n",
    "total_profit = 0\n",
    "average_change = 0\n",
    "\n",
    "#Read CSV file and beginning iteration\n",
    "with open(csvpath, 'r') as csvfile:\n",
    "    csvreader = csv.reader(csvfile, delimiter=',')\n",
    "    header = next(csvreader)\n",
    "    for row in csvreader:\n",
    "        \n",
    "        #Adds amount in 1st column for month total\n",
    "        total_months += 1\n",
    "        \n",
    "        #Adds profit in 2nd column for total profit \n",
    "        total_profit += int(row[1])\n",
    "        \n",
    "        #Iterates through list and subtracts current month profit by previous month\n",
    "        monthly_change = int(row[1]) - initial\n",
    "        initial = int(row[1])\n",
    "        \n",
    "        #Adds data to lists\n",
    "        date.append(row[0])\n",
    "        change.append(monthly_change)\n",
    "        \n",
    "        #Calculates average change by summing monthly change and dividing by total months\n",
    "        average_change = round((sum(change) / total_months), 2)\n",
    "        \n",
    "        #Looks at change[] to find Max/Min\n",
    "        greatest_increase = max(change)\n",
    "        greatest_decrease = min(change)\n",
    "        \n",
    "        #Looks at date[] and gives Max/Min value to find key (date)\n",
    "        increase_date = date[change.index(greatest_increase)]\n",
    "        decrease_date = date[change.index(greatest_decrease)]\n",
    "\n",
    "#Prints results page\n",
    "print(f\"Financial Analysis\")\n",
    "print(f\"------------------\")\n",
    "print(f\"Total Months:\", total_months)\n",
    "print(f\"Total: ${total_profit}\")\n",
    "print(f\"Average Change: ${average_change}\")\n",
    "print(f\"Greatest Increase in Profits: {increase_date} (${greatest_increase})\")\n",
    "print(f\"Greatest Increase in Profits: {decrease_date} (${greatest_decrease})\")\n",
    "\n",
    "#Establishes output path for output.csv\n",
    "output_path = Path(r'C:\\Users\\derpm\\Desktop\\Fintech\\Git\\python-homework\\PyBank\\output.csv')\n",
    "\n",
    "#Setting output header and list of metrics\n",
    "header = ['Total Months', 'Total ($)', 'Average Change ($)', 'Greatest Increase ($)', 'Greatest Increase Date', 'Greatest Decrease ($)', 'Greatese Decrease Date']\n",
    "metrics = [total_months, total_profit, average_change, greatest_increase, increase_date, greatest_decrease, decrease_date]\n",
    "\n",
    "#Opens output file\n",
    "with open(output_path, 'w') as csvfile:\n",
    "    #Allows writing in output file\n",
    "    csvwriter = csv.writer(csvfile, delimiter=',')\n",
    "    #Adds header to output file\n",
    "    csvwriter.writerow(header)\n",
    "    #Adds metrics to output file\n",
    "    csvwriter.writerow(metrics)"
   ]
  }
 ],
 "metadata": {
  "kernelspec": {
   "display_name": "Python 3 (ipykernel)",
   "language": "python",
   "name": "python3"
  },
  "language_info": {
   "codemirror_mode": {
    "name": "ipython",
    "version": 3
   },
   "file_extension": ".py",
   "mimetype": "text/x-python",
   "name": "python",
   "nbconvert_exporter": "python",
   "pygments_lexer": "ipython3",
   "version": "3.9.7"
  }
 },
 "nbformat": 4,
 "nbformat_minor": 4
}
